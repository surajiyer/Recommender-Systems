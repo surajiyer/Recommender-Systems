{
  "nbformat": 4,
  "nbformat_minor": 0,
  "metadata": {
    "colab": {
      "name": "Assignment-3.2.ipynb",
      "version": "0.3.2",
      "views": {},
      "default_view": {},
      "provenance": [
        {
          "file_id": "1sbYtumHaMAv5HVigUpBq5gdnGM_YTWRy",
          "timestamp": 1523543165086
        }
      ],
      "collapsed_sections": [
        "s0o9US-HXRAG",
        "ilTapiuFXRAM"
      ]
    },
    "kernelspec": {
      "display_name": "Python 3",
      "language": "python",
      "name": "python3"
    }
  },
  "cells": [
    {
      "metadata": {
        "id": "IL-eIdcNXQ88",
        "colab_type": "text"
      },
      "cell_type": "markdown",
      "source": [
        "# Assignment 3.2\n",
        "\n",
        "Suraj Iyer (866094)  \n",
        "Sander Boelders (0916836)\n"
      ]
    },
    {
      "metadata": {
        "id": "SuUMDFigXQ8-",
        "colab_type": "text"
      },
      "cell_type": "markdown",
      "source": [
        "# Sequence classification model"
      ]
    },
    {
      "metadata": {
        "id": "ri2dyXH4XQ9A",
        "colab_type": "code",
        "colab": {
          "autoexec": {
            "startup": false,
            "wait_interval": 0
          }
        }
      },
      "cell_type": "code",
      "source": [
        "from __future__ import print_function"
      ],
      "execution_count": 0,
      "outputs": []
    },
    {
      "metadata": {
        "id": "RI9xreWlXQ9O",
        "colab_type": "text"
      },
      "cell_type": "markdown",
      "source": [
        "## 1. Preprocess data"
      ]
    },
    {
      "metadata": {
        "id": "FP4-dhdbXQ9Q",
        "colab_type": "text"
      },
      "cell_type": "markdown",
      "source": [
        "#### Tasks:\n",
        "\n",
        "* Create word vocabulary index (use 10.000 most frequent words)\n",
        "* Preprocess training and validation set for model input. Use vocabulary index as lookup dictionary to transform raw text into integer sequences. You may use code from Practical 5."
      ]
    },
    {
      "metadata": {
        "id": "xGSNuEPwXQ9U",
        "colab_type": "code",
        "colab": {
          "autoexec": {
            "startup": false,
            "wait_interval": 0
          }
        }
      },
      "cell_type": "code",
      "source": [
        "import os\n",
        "import sys\n",
        "import numpy as np\n",
        "import pandas as pd\n",
        "import re\n",
        "import nltk"
      ],
      "execution_count": 0,
      "outputs": []
    },
    {
      "metadata": {
        "id": "sJ3ebhXUZG5A",
        "colab_type": "code",
        "colab": {
          "autoexec": {
            "startup": false,
            "wait_interval": 0
          },
          "base_uri": "https://localhost:8080/",
          "height": 306
        },
        "outputId": "1cccb15f-5ab8-4f41-a3b0-9e0291fb63d7",
        "executionInfo": {
          "status": "ok",
          "timestamp": 1523202093152,
          "user_tz": -120,
          "elapsed": 4152,
          "user": {
            "displayName": "Sander -",
            "photoUrl": "https://lh3.googleusercontent.com/a/default-user=s128",
            "userId": "114622588177860655130"
          }
        }
      },
      "cell_type": "code",
      "source": [
        "!rm *\n",
        "download_from_gdrive('data.zip', '1Saog0mTVLiw1KZb2Bol2gzM9KbsycHN3')\n",
        "!unzip data.zip"
      ],
      "execution_count": 0,
      "outputs": [
        {
          "output_type": "stream",
          "text": [
            "Download 100%.\n",
            "Archive:  data.zip\n",
            "  inflating: char_indices.npy        \n",
            "  inflating: indices_char.npy        \n",
            "  inflating: indices_words.npy       \n",
            "  inflating: trainingData.tsv        \n",
            "  inflating: unlabeledData.tsv       \n",
            "  inflating: validationData.tsv      \n",
            "  inflating: words_indices.npy       \n",
            "  inflating: X_train_char.npy        \n",
            "  inflating: X_train_word.npy        \n",
            "  inflating: X_valid_char.npy        \n",
            "  inflating: X_valid_word.npy        \n",
            "  inflating: y_train_char.npy        \n",
            "  inflating: y_train_word.npy        \n",
            "  inflating: y_valid_char.npy        \n",
            "  inflating: y_valid_word.npy        \n"
          ],
          "name": "stdout"
        }
      ]
    },
    {
      "metadata": {
        "id": "IW5RrZ1JZiiQ",
        "colab_type": "code",
        "colab": {
          "autoexec": {
            "startup": false,
            "wait_interval": 0
          }
        }
      },
      "cell_type": "code",
      "source": [
        "from IPython.display import clear_output\n",
        "from google.colab import auth\n",
        "auth.authenticate_user()\n",
        "\n",
        "from googleapiclient.discovery import build\n",
        "drive_service = build('drive', 'v3')\n",
        "\n",
        "import io\n",
        "from googleapiclient.http import MediaIoBaseDownload, MediaFileUpload\n",
        "\n",
        "def download_from_gdrive(file_name, file_id):\n",
        "  \"\"\"Download a file from google drive.\n",
        "  \n",
        "  Attributes:\n",
        "    file_name: string\n",
        "      Name to save the file with.\n",
        "    \n",
        "    file_id: string\n",
        "      A file ID looks like: 1uBtlaggVyWshwcyP6kEI-y_W3P8D26sz\n",
        "  \"\"\"\n",
        "\n",
        "  request = drive_service.files().get_media(fileId=file_id)\n",
        "  downloaded = open(file_name, \"wb\")\n",
        "  downloader = MediaIoBaseDownload(downloaded, request)\n",
        "  done = False\n",
        "  current_progress = -1\n",
        "\n",
        "  while done is False:\n",
        "    status, done = downloader.next_chunk()\n",
        "    if status:\n",
        "      if current_progress != status.progress():\n",
        "        current_progress = status.progress()\n",
        "        clear_output(wait=True)\n",
        "        print(\"Download %d%%.\" % int(current_progress * 100))"
      ],
      "execution_count": 0,
      "outputs": []
    },
    {
      "metadata": {
        "id": "ZrjczrrMXQ9c",
        "colab_type": "code",
        "colab": {
          "autoexec": {
            "startup": false,
            "wait_interval": 0
          }
        }
      },
      "cell_type": "code",
      "source": [
        "# YOUR CODE HERE \n",
        "DATA_PATH = 'data'\n",
        "EMBEDDING_PATH = 'embedding'\n",
        "MODEL_PATH = 'model'\n",
        "\n",
        "#Loading the vocabulary index generated using code from Practical 5.\n",
        "np_indices_words = np.load(os.path.join('indices_words.npy'))\n",
        "\n",
        "word_indices = np_indices_words.item()\n",
        "\n",
        "# provide model inputs (sequences from training and validation set) and outputs (sentiment labels)\n",
        "x_train = np.load(os.path.join('X_train_word.npy'))\n",
        "y_train = np.load(os.path.join('y_train_word.npy'))\n",
        "x_validation = np.load(os.path.join('X_valid_word.npy'))\n",
        "y_validation = np.load(os.path.join('y_valid_word.npy'))\n",
        "\n",
        "# here we only use smaller set to train our model \n",
        "# original set consists of 25.000 reviews\n",
        "\n",
        "x_train = x_train[:5000]\n",
        "y_train = y_train[:5000]\n",
        "\n",
        "x_validation = x_validation[5000:6000]\n",
        "y_validation = y_validation[5000:6000]"
      ],
      "execution_count": 0,
      "outputs": []
    },
    {
      "metadata": {
        "id": "n5l3GUsSXQ9k",
        "colab_type": "text"
      },
      "cell_type": "markdown",
      "source": [
        "## 2. Sequence classification model"
      ]
    },
    {
      "metadata": {
        "id": "eO9hMftIXQ9k",
        "colab_type": "text"
      },
      "cell_type": "markdown",
      "source": [
        "#### Tasks: \n",
        "\n",
        "* Create a RNN model to classify sequence of words on a binary classification task\n",
        "* Compare four (4) different gate memory units\n",
        "* Plot model performance (loss and accuracy) of these 4 models\n",
        "* Present the performance (loss and accuarcy) of these 4 models in a comparison table"
      ]
    },
    {
      "metadata": {
        "id": "QUM3GM_MXQ9m",
        "colab_type": "code",
        "colab": {
          "autoexec": {
            "startup": false,
            "wait_interval": 0
          }
        }
      },
      "cell_type": "code",
      "source": [
        "# YOUR CODE HERE \n",
        "from keras.models import Model\n",
        "from keras.layers import Dense, Input, Dropout, Bidirectional\n",
        "from keras.layers import LSTM, Lambda\n",
        "import tensorflow as tf\n",
        "import keras.callbacks\n",
        "\n",
        "# decide number of epochs and batch_size\n",
        "num_epochs = 5\n",
        "batch_size = 64\n",
        "\n",
        "num_words = len(word_indices)\n",
        "max_sequence_length = 500\n",
        "rnn_dim = 32\n",
        "\n",
        "def binarize(x, sz=num_words):\n",
        "    return tf.to_float(tf.one_hot(x, sz, on_value=1, off_value=0, axis=-1))\n",
        "\n",
        "def binarize_outshape(in_shape):\n",
        "    return in_shape[0], in_shape[1], num_words"
      ],
      "execution_count": 0,
      "outputs": []
    },
    {
      "metadata": {
        "id": "tewre3PpXQ-A",
        "colab_type": "text"
      },
      "cell_type": "markdown",
      "source": [
        "### Model 1 : LSTM"
      ]
    },
    {
      "metadata": {
        "id": "EryFYoGFXQ-C",
        "colab_type": "code",
        "colab": {
          "autoexec": {
            "startup": false,
            "wait_interval": 0
          },
          "base_uri": "https://localhost:8080/",
          "height": 272
        },
        "outputId": "618d2a9b-6211-4e23-d8f9-be2e8a0a8403",
        "executionInfo": {
          "status": "ok",
          "timestamp": 1523202123023,
          "user_tz": -120,
          "elapsed": 1089,
          "user": {
            "displayName": "Sander -",
            "photoUrl": "https://lh3.googleusercontent.com/a/default-user=s128",
            "userId": "114622588177860655130"
          }
        }
      },
      "cell_type": "code",
      "source": [
        "# YOUR CODE HERE\n",
        "# MODEL-1: LSTM\n",
        "\n",
        "# construct architecture\n",
        "input_layer = Input(shape=(max_sequence_length, ), name='input_layer', dtype='int32')\n",
        "char_embedding = Lambda(binarize, output_shape=binarize_outshape,name='char_embedding')(input_layer)\n",
        "lstm_layer = LSTM(rnn_dim, name='lstm_layer')(char_embedding)\n",
        "output_layer = Dense(1, name='prediction_layer', activation='sigmoid')(lstm_layer)\n",
        "\n",
        "# define and load model\n",
        "lstm_model = Model(inputs=input_layer, outputs=output_layer)\n",
        "lstm_model.summary()"
      ],
      "execution_count": 0,
      "outputs": [
        {
          "output_type": "stream",
          "text": [
            "_________________________________________________________________\n",
            "Layer (type)                 Output Shape              Param #   \n",
            "=================================================================\n",
            "input_layer (InputLayer)     (None, 500)               0         \n",
            "_________________________________________________________________\n",
            "char_embedding (Lambda)      (None, 500, 10004)        0         \n",
            "_________________________________________________________________\n",
            "lstm_layer (LSTM)            (None, 32)                1284736   \n",
            "_________________________________________________________________\n",
            "prediction_layer (Dense)     (None, 1)                 33        \n",
            "=================================================================\n",
            "Total params: 1,284,769\n",
            "Trainable params: 1,284,769\n",
            "Non-trainable params: 0\n",
            "_________________________________________________________________\n"
          ],
          "name": "stdout"
        }
      ]
    },
    {
      "metadata": {
        "id": "5USSL6aeXQ-K",
        "colab_type": "text"
      },
      "cell_type": "markdown",
      "source": [
        "### Model 2: GRU"
      ]
    },
    {
      "metadata": {
        "id": "LQKck4t_XQ-M",
        "colab_type": "code",
        "colab": {
          "autoexec": {
            "startup": false,
            "wait_interval": 0
          },
          "base_uri": "https://localhost:8080/",
          "height": 300
        },
        "outputId": "6fa7735a-cc6d-4daa-c6b3-41fa908b49d3",
        "executionInfo": {
          "status": "ok",
          "timestamp": 1521981526752,
          "user_tz": -120,
          "elapsed": 508,
          "user": {
            "displayName": "Sander -",
            "photoUrl": "https://lh3.googleusercontent.com/a/default-user=s128",
            "userId": "114622588177860655130"
          }
        }
      },
      "cell_type": "code",
      "source": [
        "# YOUR CODE HERE\n",
        "# MODEL-2: GRU\n",
        "from keras.layers import GRU\n",
        "\n",
        "# construct architecture\n",
        "input_layer = Input(shape=(max_sequence_length, ), name='input_layer', dtype='int32')\n",
        "char_embedding = Lambda(binarize, output_shape=binarize_outshape,name='char_embedding')(input_layer)\n",
        "GRU_layer = GRU(rnn_dim, name='GRU_layer')(char_embedding)\n",
        "output_layer = Dense(1, name='prediction_layer', activation='sigmoid')(GRU_layer)\n",
        "\n",
        "# define and load model\n",
        "gru_model = Model(inputs=input_layer, outputs=output_layer)\n",
        "gru_model.summary()"
      ],
      "execution_count": 0,
      "outputs": [
        {
          "output_type": "stream",
          "text": [
            "_________________________________________________________________\n",
            "Layer (type)                 Output Shape              Param #   \n",
            "=================================================================\n",
            "input_layer (InputLayer)     (None, 500)               0         \n",
            "_________________________________________________________________\n",
            "char_embedding (Lambda)      (None, 500, 10004)        0         \n",
            "_________________________________________________________________\n",
            "GRU_layer (GRU)              (None, 32)                963552    \n",
            "_________________________________________________________________\n",
            "prediction_layer (Dense)     (None, 1)                 33        \n",
            "=================================================================\n",
            "Total params: 963,585\n",
            "Trainable params: 963,585\n",
            "Non-trainable params: 0\n",
            "_________________________________________________________________\n"
          ],
          "name": "stdout"
        }
      ]
    },
    {
      "metadata": {
        "id": "krxtLRUCXQ-Q",
        "colab_type": "text"
      },
      "cell_type": "markdown",
      "source": [
        "### Model 3 : Bidirectional LSTM"
      ]
    },
    {
      "metadata": {
        "id": "yhSDGuVIXQ-S",
        "colab_type": "code",
        "colab": {
          "autoexec": {
            "startup": false,
            "wait_interval": 0
          },
          "base_uri": "https://localhost:8080/",
          "height": 300
        },
        "outputId": "a5bd64d9-20c0-4c27-d04f-308d7bd4bae2",
        "executionInfo": {
          "status": "ok",
          "timestamp": 1521981527966,
          "user_tz": -120,
          "elapsed": 702,
          "user": {
            "displayName": "Sander -",
            "photoUrl": "https://lh3.googleusercontent.com/a/default-user=s128",
            "userId": "114622588177860655130"
          }
        }
      },
      "cell_type": "code",
      "source": [
        "# YOUR CODE HERE\n",
        "# MODEL-3: Bidirectional LSTM\n",
        "\n",
        "# construct architecture\n",
        "input_layer = Input(shape=(max_sequence_length, ), name='input_layer', dtype='int32')\n",
        "char_embedding = Lambda(binarize, output_shape=binarize_outshape,name='char_embedding')(input_layer)\n",
        "BidirectionalLSTM_layer = Bidirectional(LSTM(rnn_dim, name='bilstm_layer'))(char_embedding)\n",
        "output_layer = Dense(1, name='prediction_layer', activation='sigmoid')(BidirectionalLSTM_layer)\n",
        "\n",
        "# define and load model\n",
        "bilstm_model = Model(inputs=input_layer, outputs=output_layer)\n",
        "bilstm_model.summary()"
      ],
      "execution_count": 0,
      "outputs": [
        {
          "output_type": "stream",
          "text": [
            "_________________________________________________________________\n",
            "Layer (type)                 Output Shape              Param #   \n",
            "=================================================================\n",
            "input_layer (InputLayer)     (None, 500)               0         \n",
            "_________________________________________________________________\n",
            "char_embedding (Lambda)      (None, 500, 10004)        0         \n",
            "_________________________________________________________________\n",
            "bidirectional_1 (Bidirection (None, 64)                2569472   \n",
            "_________________________________________________________________\n",
            "prediction_layer (Dense)     (None, 1)                 65        \n",
            "=================================================================\n",
            "Total params: 2,569,537\n",
            "Trainable params: 2,569,537\n",
            "Non-trainable params: 0\n",
            "_________________________________________________________________\n"
          ],
          "name": "stdout"
        }
      ]
    },
    {
      "metadata": {
        "id": "W_mbF-izXQ-Y",
        "colab_type": "text"
      },
      "cell_type": "markdown",
      "source": [
        "### Model 4 : Bidirectional GRU"
      ]
    },
    {
      "metadata": {
        "id": "keyShVmNXQ-a",
        "colab_type": "code",
        "colab": {
          "autoexec": {
            "startup": false,
            "wait_interval": 0
          },
          "base_uri": "https://localhost:8080/",
          "height": 300
        },
        "outputId": "83cf94e7-a7e5-435e-917e-08355e4ea578",
        "executionInfo": {
          "status": "ok",
          "timestamp": 1521981529262,
          "user_tz": -120,
          "elapsed": 696,
          "user": {
            "displayName": "Sander -",
            "photoUrl": "https://lh3.googleusercontent.com/a/default-user=s128",
            "userId": "114622588177860655130"
          }
        }
      },
      "cell_type": "code",
      "source": [
        "# YOUR CODE HERE\n",
        "# MODEL-4: Bidirectional GRU\n",
        "\n",
        "# construct architecture\n",
        "input_layer = Input(shape=(max_sequence_length, ), name='input_layer', dtype='int32')\n",
        "char_embedding = Lambda(binarize, output_shape=binarize_outshape,name='char_embedding')(input_layer)\n",
        "bigru_layer = Bidirectional(GRU(rnn_dim, name='biGRU_layer'))(char_embedding)\n",
        "output_layer = Dense(1, name='prediction_layer', activation='sigmoid')(bigru_layer)\n",
        "\n",
        "# define and load model\n",
        "bigru_model = Model(inputs=input_layer, outputs=output_layer)\n",
        "bigru_model.summary()"
      ],
      "execution_count": 0,
      "outputs": [
        {
          "output_type": "stream",
          "text": [
            "_________________________________________________________________\n",
            "Layer (type)                 Output Shape              Param #   \n",
            "=================================================================\n",
            "input_layer (InputLayer)     (None, 500)               0         \n",
            "_________________________________________________________________\n",
            "char_embedding (Lambda)      (None, 500, 10004)        0         \n",
            "_________________________________________________________________\n",
            "bidirectional_2 (Bidirection (None, 64)                1927104   \n",
            "_________________________________________________________________\n",
            "prediction_layer (Dense)     (None, 1)                 65        \n",
            "=================================================================\n",
            "Total params: 1,927,169\n",
            "Trainable params: 1,927,169\n",
            "Non-trainable params: 0\n",
            "_________________________________________________________________\n"
          ],
          "name": "stdout"
        }
      ]
    },
    {
      "metadata": {
        "id": "GBet1gkpXQ-i",
        "colab_type": "text"
      },
      "cell_type": "markdown",
      "source": [
        "### Compile models"
      ]
    },
    {
      "metadata": {
        "id": "JnhAaP4YXQ-k",
        "colab_type": "code",
        "colab": {
          "autoexec": {
            "startup": false,
            "wait_interval": 0
          }
        }
      },
      "cell_type": "code",
      "source": [
        "# YOUR CODE HERE \n",
        "# decide loss function, and optimizer\n",
        "lstm_model.compile(loss='binary_crossentropy', optimizer='adam', metrics=['accuracy'])"
      ],
      "execution_count": 0,
      "outputs": []
    },
    {
      "metadata": {
        "id": "nSYhjHnZXQ-m",
        "colab_type": "code",
        "colab": {
          "autoexec": {
            "startup": false,
            "wait_interval": 0
          }
        }
      },
      "cell_type": "code",
      "source": [
        "# YOUR CODE HERE \n",
        "# decide loss function, and optimizer\n",
        "gru_model.compile(loss='binary_crossentropy', optimizer='adam', metrics=['accuracy'])"
      ],
      "execution_count": 0,
      "outputs": []
    },
    {
      "metadata": {
        "id": "fMsTSPazXQ-s",
        "colab_type": "code",
        "colab": {
          "autoexec": {
            "startup": false,
            "wait_interval": 0
          }
        }
      },
      "cell_type": "code",
      "source": [
        "# YOUR CODE HERE \n",
        "# decide loss function, and optimizer\n",
        "bilstm_model.compile(loss='binary_crossentropy', optimizer='adam', metrics=['accuracy'])"
      ],
      "execution_count": 0,
      "outputs": []
    },
    {
      "metadata": {
        "id": "Y92qCq9IXQ-8",
        "colab_type": "code",
        "colab": {
          "autoexec": {
            "startup": false,
            "wait_interval": 0
          }
        }
      },
      "cell_type": "code",
      "source": [
        "# YOUR CODE HERE \n",
        "# decide loss function, and optimizer\n",
        "bigru_model.compile(loss='binary_crossentropy', optimizer='adam', metrics=['accuracy'])"
      ],
      "execution_count": 0,
      "outputs": []
    },
    {
      "metadata": {
        "id": "kXLpuqyzXQ_C",
        "colab_type": "text"
      },
      "cell_type": "markdown",
      "source": [
        "### Train models"
      ]
    },
    {
      "metadata": {
        "id": "AjOzEel-XQ_G",
        "colab_type": "code",
        "colab": {
          "autoexec": {
            "startup": false,
            "wait_interval": 0
          }
        }
      },
      "cell_type": "code",
      "source": [
        "# YOUR CODE HERE \n",
        "# add callback history during the training stage of the model\n",
        "lstm_history = lstm_model.fit(x_train, y_train, validation_data=(x_validation, y_validation), \\\n",
        "               epochs=num_epochs, batch_size=batch_size)"
      ],
      "execution_count": 0,
      "outputs": []
    },
    {
      "metadata": {
        "id": "3G0PAA4PXQ_O",
        "colab_type": "code",
        "colab": {
          "autoexec": {
            "startup": false,
            "wait_interval": 0
          },
          "base_uri": "https://localhost:8080/",
          "height": 245
        },
        "outputId": "3b74be9c-4374-485b-c5f8-451f8ba9dade",
        "executionInfo": {
          "status": "ok",
          "timestamp": 1521983496816,
          "user_tz": -120,
          "elapsed": 853744,
          "user": {
            "displayName": "Sander -",
            "photoUrl": "https://lh3.googleusercontent.com/a/default-user=s128",
            "userId": "114622588177860655130"
          }
        }
      },
      "cell_type": "code",
      "source": [
        "# YOUR CODE HERE \n",
        "# add callback history during the training stage of the model\n",
        "gru_history = gru_model.fit(x_train, y_train, validation_data=(x_validation, y_validation), \\\n",
        "               epochs=num_epochs, batch_size=batch_size)"
      ],
      "execution_count": 0,
      "outputs": [
        {
          "output_type": "stream",
          "text": [
            "Train on 5000 samples, validate on 1000 samples\n",
            "Epoch 1/5\n",
            "5000/5000 [==============================] - 171s 34ms/step - loss: 0.6805 - acc: 0.5796 - val_loss: 0.5720 - val_acc: 0.7050\n",
            "Epoch 2/5\n",
            "5000/5000 [==============================] - 170s 34ms/step - loss: 0.5795 - acc: 0.6972 - val_loss: 0.4871 - val_acc: 0.7680\n",
            "Epoch 3/5\n",
            "5000/5000 [==============================] - 170s 34ms/step - loss: 0.3005 - acc: 0.8786 - val_loss: 0.3583 - val_acc: 0.8510\n",
            "Epoch 4/5\n",
            "3840/5000 [======================>.......] - ETA: 33s - loss: 0.1560 - acc: 0.9513"
          ],
          "name": "stdout"
        },
        {
          "output_type": "stream",
          "text": [
            "5000/5000 [==============================] - 171s 34ms/step - loss: 0.1539 - acc: 0.9514 - val_loss: 0.4038 - val_acc: 0.8320\n",
            "Epoch 5/5\n",
            "5000/5000 [==============================] - 170s 34ms/step - loss: 0.0989 - acc: 0.9722 - val_loss: 0.3571 - val_acc: 0.8430\n"
          ],
          "name": "stdout"
        }
      ]
    },
    {
      "metadata": {
        "id": "L02PwJVuXQ_S",
        "colab_type": "code",
        "colab": {
          "autoexec": {
            "startup": false,
            "wait_interval": 0
          },
          "base_uri": "https://localhost:8080/",
          "height": 245
        },
        "outputId": "d746a63d-9b3d-4d67-a449-9a3ec776c56b",
        "executionInfo": {
          "status": "ok",
          "timestamp": 1521985667680,
          "user_tz": -120,
          "elapsed": 2170570,
          "user": {
            "displayName": "Sander -",
            "photoUrl": "https://lh3.googleusercontent.com/a/default-user=s128",
            "userId": "114622588177860655130"
          }
        }
      },
      "cell_type": "code",
      "source": [
        "# YOUR CODE HERE \n",
        "# add callback history during the training stage of the model\n",
        "bilstm_history = bilstm_model.fit(x_train, y_train, \n",
        "                                  validation_data=(x_validation, y_validation), \n",
        "                                  epochs=num_epochs, batch_size=batch_size)"
      ],
      "execution_count": 0,
      "outputs": [
        {
          "output_type": "stream",
          "text": [
            "Train on 5000 samples, validate on 1000 samples\n",
            "Epoch 1/5\n",
            "5000/5000 [==============================] - 434s 87ms/step - loss: 0.6595 - acc: 0.6118 - val_loss: 0.5820 - val_acc: 0.7240\n",
            "Epoch 2/5\n",
            "5000/5000 [==============================] - 434s 87ms/step - loss: 0.4638 - acc: 0.8106 - val_loss: 0.4294 - val_acc: 0.8540\n",
            "Epoch 3/5\n",
            "5000/5000 [==============================] - 434s 87ms/step - loss: 0.3470 - acc: 0.8800 - val_loss: 0.4884 - val_acc: 0.8110\n",
            "Epoch 4/5\n",
            "3840/5000 [======================>.......] - ETA: 1:25 - loss: 0.3372 - acc: 0.8755"
          ],
          "name": "stdout"
        },
        {
          "output_type": "stream",
          "text": [
            "5000/5000 [==============================] - 433s 87ms/step - loss: 0.3345 - acc: 0.8740 - val_loss: 0.3358 - val_acc: 0.8510\n",
            "Epoch 5/5\n",
            "5000/5000 [==============================] - 434s 87ms/step - loss: 0.1769 - acc: 0.9430 - val_loss: 0.4048 - val_acc: 0.8350\n"
          ],
          "name": "stdout"
        }
      ]
    },
    {
      "metadata": {
        "id": "GzPQ1WbeXQ_W",
        "colab_type": "code",
        "colab": {
          "autoexec": {
            "startup": false,
            "wait_interval": 0
          },
          "base_uri": "https://localhost:8080/",
          "height": 245
        },
        "outputId": "40bfef45-1aba-430e-a0c7-06ab0ef381ee",
        "executionInfo": {
          "status": "ok",
          "timestamp": 1521987327804,
          "user_tz": -120,
          "elapsed": 1660030,
          "user": {
            "displayName": "Sander -",
            "photoUrl": "https://lh3.googleusercontent.com/a/default-user=s128",
            "userId": "114622588177860655130"
          }
        }
      },
      "cell_type": "code",
      "source": [
        "# YOUR CODE HERE \n",
        "# add callback history during the training stage of the model\n",
        "bigru_history = bigru_model.fit(x_train, y_train, \n",
        "                                validation_data=(x_validation, y_validation), \n",
        "                                epochs=num_epochs, batch_size=batch_size)"
      ],
      "execution_count": 0,
      "outputs": [
        {
          "output_type": "stream",
          "text": [
            "Train on 5000 samples, validate on 1000 samples\n",
            "Epoch 1/5\n",
            "5000/5000 [==============================] - 332s 66ms/step - loss: 0.6867 - acc: 0.5532 - val_loss: 0.6515 - val_acc: 0.7060\n",
            "Epoch 2/5\n",
            "5000/5000 [==============================] - 332s 66ms/step - loss: 0.4449 - acc: 0.8180 - val_loss: 0.3932 - val_acc: 0.8320\n",
            "Epoch 3/5\n",
            "5000/5000 [==============================] - 332s 66ms/step - loss: 0.2172 - acc: 0.9224 - val_loss: 0.3644 - val_acc: 0.8570\n",
            "Epoch 4/5\n",
            "3840/5000 [======================>.......] - ETA: 1:05 - loss: 0.1259 - acc: 0.9638"
          ],
          "name": "stdout"
        },
        {
          "output_type": "stream",
          "text": [
            "5000/5000 [==============================] - 332s 66ms/step - loss: 0.1299 - acc: 0.9626 - val_loss: 0.3280 - val_acc: 0.8570\n",
            "Epoch 5/5\n",
            "5000/5000 [==============================] - 332s 66ms/step - loss: 0.0774 - acc: 0.9786 - val_loss: 0.4404 - val_acc: 0.8450\n"
          ],
          "name": "stdout"
        }
      ]
    },
    {
      "metadata": {
        "id": "nsJc4ZPkXQ_k",
        "colab_type": "text"
      },
      "cell_type": "markdown",
      "source": [
        "### Save models and weight parameters"
      ]
    },
    {
      "metadata": {
        "id": "znriaUuwXQ_k",
        "colab_type": "code",
        "colab": {
          "autoexec": {
            "startup": false,
            "wait_interval": 0
          }
        }
      },
      "cell_type": "code",
      "source": [
        "# Save model\n",
        "lstm_model.save('lstm_model.h5')\n",
        "# Save trained weight parameters\n",
        "lstm_model.save_weights('weights_lstm_model.hdf5')"
      ],
      "execution_count": 0,
      "outputs": []
    },
    {
      "metadata": {
        "id": "YRKerBIXXQ_o",
        "colab_type": "code",
        "colab": {
          "autoexec": {
            "startup": false,
            "wait_interval": 0
          }
        }
      },
      "cell_type": "code",
      "source": [
        "# Save model\n",
        "gru_model.save('gru_model.h5')\n",
        "# Save trained weight parameters\n",
        "gru_model.save_weights('weights_gru_model.hdf5')"
      ],
      "execution_count": 0,
      "outputs": []
    },
    {
      "metadata": {
        "id": "ZmGQ66sdXQ_s",
        "colab_type": "code",
        "colab": {
          "autoexec": {
            "startup": false,
            "wait_interval": 0
          }
        }
      },
      "cell_type": "code",
      "source": [
        "# Save model\n",
        "bilstm_model.save('bilstm_model.h5')\n",
        "# Save trained weight parameters\n",
        "bilstm_model.save_weights('weights_bilstm_model.hdf5')"
      ],
      "execution_count": 0,
      "outputs": []
    },
    {
      "metadata": {
        "id": "-C0CR7h7XQ_y",
        "colab_type": "code",
        "colab": {
          "autoexec": {
            "startup": false,
            "wait_interval": 0
          }
        }
      },
      "cell_type": "code",
      "source": [
        "# Save model\n",
        "bigru_model.save('bigru_model.h5')\n",
        "# Save trained weight parameters\n",
        "bigru_model.save_weights('weights_bigru_model.hdf5')"
      ],
      "execution_count": 0,
      "outputs": []
    },
    {
      "metadata": {
        "id": "2Bq8Rm5dXv-a",
        "colab_type": "code",
        "colab": {
          "autoexec": {
            "startup": false,
            "wait_interval": 0
          }
        }
      },
      "cell_type": "code",
      "source": [
        "#Donwload the model for later usage\n",
        "from google.colab import files\n",
        "\n",
        "files.download('lstm_model.h5')\n",
        "files.download('weights_lstm_model.hdf5')"
      ],
      "execution_count": 0,
      "outputs": []
    },
    {
      "metadata": {
        "id": "3skGciW6XQ_2",
        "colab_type": "text"
      },
      "cell_type": "markdown",
      "source": [
        "#### Plot model performance (loss, accuracy)"
      ]
    },
    {
      "metadata": {
        "id": "07JyNJAuXQ_2",
        "colab_type": "text"
      },
      "cell_type": "markdown",
      "source": [
        "Present two (2) plots for each model "
      ]
    },
    {
      "metadata": {
        "id": "h_mfWHy1XQ_4",
        "colab_type": "code",
        "colab": {
          "autoexec": {
            "startup": false,
            "wait_interval": 0
          },
          "base_uri": "https://localhost:8080/",
          "height": 2889
        },
        "outputId": "4796dbf8-a97f-48fe-ccea-8884dab241d0",
        "executionInfo": {
          "status": "ok",
          "timestamp": 1521997819020,
          "user_tz": -120,
          "elapsed": 1890,
          "user": {
            "displayName": "Sander -",
            "photoUrl": "https://lh3.googleusercontent.com/a/default-user=s128",
            "userId": "114622588177860655130"
          }
        }
      },
      "cell_type": "code",
      "source": [
        "# YOUR CODE HERE \n",
        "import matplotlib.pyplot as plt\n",
        "\n",
        "histories = [lstm_history, gru_history, bilstm_history, bigru_history]\n",
        "titles = ['lstm', 'gru', 'bilstm', 'bigru']\n",
        "\n",
        "for i, history in enumerate(histories):\n",
        "  plt.plot(history.history['acc'])\n",
        "  plt.plot(history.history['val_acc'])\n",
        "  plt.title('Accuracy ' + titles[i])\n",
        "  plt.ylabel('Accuracy')\n",
        "  plt.xlabel('Epoch - 1')\n",
        "  plt.legend(['Training data', 'Test data'], loc='upper left')\n",
        "  plt.show()\n",
        "\n",
        "  plt.plot(history.history['loss'])\n",
        "  plt.plot(history.history['val_loss'])\n",
        "  plt.title('Loss '  + titles[i])\n",
        "  plt.ylabel('loss')\n",
        "  plt.xlabel('Epoch - 1')\n",
        "  plt.legend(['Training data', 'Test data'], loc='upper left')\n",
        "  plt.show()"
      ],
      "execution_count": 0,
      "outputs": [
        {
          "output_type": "display_data",
          "data": {
            "image/png": "[encoded data removed]",
            "text/plain": [
              "<matplotlib.figure.Figure at 0x7f6657e3fcf8>"
            ]
          },
          "metadata": {
            "tags": []
          }
        },
        {
          "output_type": "display_data",
          "data": {
            "image/png": "[encoded data removed]",
            "text/plain": [
              "<matplotlib.figure.Figure at 0x7f6657fb44e0>"
            ]
          },
          "metadata": {
            "tags": []
          }
        },
        {
          "output_type": "display_data",
          "data": {
            "image/png": "[encoded data removed]",
            "text/plain": [
              "<matplotlib.figure.Figure at 0x7f6657cb99e8>"
            ]
          },
          "metadata": {
            "tags": []
          }
        },
        {
          "output_type": "display_data",
          "data": {
            "image/png": "[encoded data removed]",
            "text/plain": [
              "<matplotlib.figure.Figure at 0x7f66581c6358>"
            ]
          },
          "metadata": {
            "tags": []
          }
        },
        {
          "output_type": "display_data",
          "data": {
            "image/png": "[encoded data removed]",
            "text/plain": [
              "<matplotlib.figure.Figure at 0x7f66581d3a58>"
            ]
          },
          "metadata": {
            "tags": []
          }
        },
        {
          "output_type": "display_data",
          "data": {
            "image/png": "[encoded data removed]",
            "text/plain": [
              "<matplotlib.figure.Figure at 0x7f6658191be0>"
            ]
          },
          "metadata": {
            "tags": []
          }
        },
        {
          "output_type": "display_data",
          "data": {
            "image/png": "[encoded data removed]",
            "text/plain": [
              "<matplotlib.figure.Figure at 0x7f665812cf28>"
            ]
          },
          "metadata": {
            "tags": []
          }
        },
        {
          "output_type": "display_data",
          "data": {
            "image/png": "[encoded data removed]",
            "text/plain": [
              "<matplotlib.figure.Figure at 0x7f6654c97278>"
            ]
          },
          "metadata": {
            "tags": []
          }
        }
      ]
    },
    {
      "metadata": {
        "id": "_ArGd3FBj5mW",
        "colab_type": "code",
        "colab": {
          "autoexec": {
            "startup": false,
            "wait_interval": 0
          },
          "base_uri": "https://localhost:8080/",
          "height": 238
        },
        "outputId": "dd9f8ee1-5d30-465e-b3de-f88bb508f544",
        "executionInfo": {
          "status": "ok",
          "timestamp": 1521997865992,
          "user_tz": -120,
          "elapsed": 474,
          "user": {
            "displayName": "Sander -",
            "photoUrl": "https://lh3.googleusercontent.com/a/default-user=s128",
            "userId": "114622588177860655130"
          }
        }
      },
      "cell_type": "code",
      "source": [
        "d = {}\n",
        "for i, history in enumerate(histories):\n",
        "  d[titles[i] + ' accuracy'] = history.history['val_acc']\n",
        "  d[titles[i] + ' loss'] = history.history['val_loss']\n",
        "d['Epoch'] = [1, 2, 3, 4, 5]\n",
        "df = pd.DataFrame(data=d)\n",
        "df.set_index('Epoch', inplace=True)\n",
        "display(df)"
      ],
      "execution_count": 0,
      "outputs": [
        {
          "output_type": "display_data",
          "data": {
            "text/html": [
              "<div>\n",
              "<style scoped>\n",
              "    .dataframe tbody tr th:only-of-type {\n",
              "        vertical-align: middle;\n",
              "    }\n",
              "\n",
              "    .dataframe tbody tr th {\n",
              "        vertical-align: top;\n",
              "    }\n",
              "\n",
              "    .dataframe thead th {\n",
              "        text-align: right;\n",
              "    }\n",
              "</style>\n",
              "<table border=\"1\" class=\"dataframe\">\n",
              "  <thead>\n",
              "    <tr style=\"text-align: right;\">\n",
              "      <th></th>\n",
              "      <th>bigru accuracy</th>\n",
              "      <th>bigru loss</th>\n",
              "      <th>bilstm accuracy</th>\n",
              "      <th>bilstm loss</th>\n",
              "      <th>gru accuracy</th>\n",
              "      <th>gru loss</th>\n",
              "      <th>lstm accuracy</th>\n",
              "      <th>lstm loss</th>\n",
              "    </tr>\n",
              "    <tr>\n",
              "      <th>Epoch</th>\n",
              "      <th></th>\n",
              "      <th></th>\n",
              "      <th></th>\n",
              "      <th></th>\n",
              "      <th></th>\n",
              "      <th></th>\n",
              "      <th></th>\n",
              "      <th></th>\n",
              "    </tr>\n",
              "  </thead>\n",
              "  <tbody>\n",
              "    <tr>\n",
              "      <th>1</th>\n",
              "      <td>0.706</td>\n",
              "      <td>0.651472</td>\n",
              "      <td>0.724</td>\n",
              "      <td>0.582019</td>\n",
              "      <td>0.705</td>\n",
              "      <td>0.572033</td>\n",
              "      <td>0.704</td>\n",
              "      <td>0.636514</td>\n",
              "    </tr>\n",
              "    <tr>\n",
              "      <th>2</th>\n",
              "      <td>0.832</td>\n",
              "      <td>0.393214</td>\n",
              "      <td>0.854</td>\n",
              "      <td>0.429447</td>\n",
              "      <td>0.768</td>\n",
              "      <td>0.487111</td>\n",
              "      <td>0.814</td>\n",
              "      <td>0.417432</td>\n",
              "    </tr>\n",
              "    <tr>\n",
              "      <th>3</th>\n",
              "      <td>0.857</td>\n",
              "      <td>0.364419</td>\n",
              "      <td>0.811</td>\n",
              "      <td>0.488354</td>\n",
              "      <td>0.851</td>\n",
              "      <td>0.358311</td>\n",
              "      <td>0.825</td>\n",
              "      <td>0.379671</td>\n",
              "    </tr>\n",
              "    <tr>\n",
              "      <th>4</th>\n",
              "      <td>0.857</td>\n",
              "      <td>0.328047</td>\n",
              "      <td>0.851</td>\n",
              "      <td>0.335791</td>\n",
              "      <td>0.832</td>\n",
              "      <td>0.403826</td>\n",
              "      <td>0.770</td>\n",
              "      <td>0.467172</td>\n",
              "    </tr>\n",
              "    <tr>\n",
              "      <th>5</th>\n",
              "      <td>0.845</td>\n",
              "      <td>0.440431</td>\n",
              "      <td>0.835</td>\n",
              "      <td>0.404762</td>\n",
              "      <td>0.843</td>\n",
              "      <td>0.357101</td>\n",
              "      <td>0.854</td>\n",
              "      <td>0.345293</td>\n",
              "    </tr>\n",
              "  </tbody>\n",
              "</table>\n",
              "</div>"
            ],
            "text/plain": [
              "       bigru accuracy  bigru loss  bilstm accuracy  bilstm loss  gru accuracy  \\\n",
              "Epoch                                                                           \n",
              "1               0.706    0.651472            0.724     0.582019         0.705   \n",
              "2               0.832    0.393214            0.854     0.429447         0.768   \n",
              "3               0.857    0.364419            0.811     0.488354         0.851   \n",
              "4               0.857    0.328047            0.851     0.335791         0.832   \n",
              "5               0.845    0.440431            0.835     0.404762         0.843   \n",
              "\n",
              "       gru loss  lstm accuracy  lstm loss  \n",
              "Epoch                                      \n",
              "1      0.572033          0.704   0.636514  \n",
              "2      0.487111          0.814   0.417432  \n",
              "3      0.358311          0.825   0.379671  \n",
              "4      0.403826          0.770   0.467172  \n",
              "5      0.357101          0.854   0.345293  "
            ]
          },
          "metadata": {
            "tags": []
          }
        }
      ]
    },
    {
      "metadata": {
        "id": "-EDQfA8LXQ_6",
        "colab_type": "text"
      },
      "cell_type": "markdown",
      "source": [
        "#### Present table comparison of model performance\n",
        "\n",
        "#### Answer:\n",
        "\n",
        "In the table presented above the accuracy and loss for the four different gate memory units are presented.  \n",
        "For every unit the model has been trained for 5 epochs. We see the best result for lstm with a test set accuracy of 0.854 and a test set loss of 0.345293. The model using lstm will thus be used for the feature extracitn.  \n",
        "We further notice that both lstm and bidirectional lstm were still increasing in the last epoch. This means that these results can likely be improved by running more epochs. The test set accuracy and loss for gru and bidirectional gru were slowly stopping to increase towards the fifth epoch and are thus unlikely to outperform the lstm units."
      ]
    },
    {
      "metadata": {
        "id": "nvdlbbJDXQ_8",
        "colab_type": "text"
      },
      "cell_type": "markdown",
      "source": [
        "### 3. Feature extraction"
      ]
    },
    {
      "metadata": {
        "id": "EmYF0VkEXQ_8",
        "colab_type": "text"
      },
      "cell_type": "markdown",
      "source": [
        "#### Tasks: \n",
        "\n",
        "* Choose one model with the best performance and use the model to produce ”neural codes” (document embedding) of raw text (5000 instances of unseen validation set) from RNN layer.\n",
        "*  Use tSNE to reduce the dimension of extracted text features (encoded version of 5000 documents) into two (2) dimensions and visualize it towards their sentiment labels.\n"
      ]
    },
    {
      "metadata": {
        "id": "tL-FYnZzXQ_8",
        "colab_type": "code",
        "colab": {
          "autoexec": {
            "startup": false,
            "wait_interval": 0
          }
        }
      },
      "cell_type": "code",
      "source": [
        "# load the trained model\n",
        "from keras.models import load_model\n",
        "import tensorflow as tf\n",
        "\n",
        "# YOUR CODE HERE\n",
        "# choose the best model\n",
        "\n",
        "model = load_model('lstm_model.h5', custom_objects={\n",
        "    'tf':tf,\n",
        "    'num_words':num_words})\n",
        "model.load_weights('lstm_model.h5')"
      ],
      "execution_count": 0,
      "outputs": []
    },
    {
      "metadata": {
        "id": "H5zoHoMvXQ_-",
        "colab_type": "text"
      },
      "cell_type": "markdown",
      "source": [
        "#### Produce Neural codes of text reviews"
      ]
    },
    {
      "metadata": {
        "id": "LW0mb3TkXRAA",
        "colab_type": "code",
        "colab": {
          "autoexec": {
            "startup": false,
            "wait_interval": 0
          },
          "base_uri": "https://localhost:8080/",
          "height": 34
        },
        "outputId": "553dbcec-cb66-4e35-e799-c6e32ff16612",
        "executionInfo": {
          "status": "ok",
          "timestamp": 1523203472878,
          "user_tz": -120,
          "elapsed": 1088330,
          "user": {
            "displayName": "Sander -",
            "photoUrl": "https://lh3.googleusercontent.com/a/default-user=s128",
            "userId": "114622588177860655130"
          }
        }
      },
      "cell_type": "code",
      "source": [
        "# YOUR CODE HERE\n",
        "x_create_embedding = np.load(os.path.join('X_valid_word.npy'))\n",
        "x_create_embedding = x_create_embedding[6000:11000]\n",
        "y_create_embedding = np.load(os.path.join('y_valid_word.npy'))\n",
        "y_create_embedding = y_create_embedding[6000:11000]\n",
        "\n",
        "print(x_create_embedding[1].shape)\n",
        " \n",
        "# define sub model to retrieve \"neural codes\" (document embedding) from recurrent layer\n",
        "encoder_model = Model(inputs=model.input, outputs=model.get_layer(\"lstm_layer\").output)\n",
        "# generate \"neural codes\" (document embedding) from the model\n",
        "doc_embeddings = encoder_model.predict(x_create_embedding)"
      ],
      "execution_count": 0,
      "outputs": [
        {
          "output_type": "stream",
          "text": [
            "(500,)\n"
          ],
          "name": "stdout"
        }
      ]
    },
    {
      "metadata": {
        "id": "qJvyYW6RXRAC",
        "colab_type": "text"
      },
      "cell_type": "markdown",
      "source": [
        "#### tSNE visualization"
      ]
    },
    {
      "metadata": {
        "id": "427JsJDvXRAE",
        "colab_type": "code",
        "colab": {
          "autoexec": {
            "startup": false,
            "wait_interval": 0
          },
          "base_uri": "https://localhost:8080/",
          "height": 36
        },
        "outputId": "5c1a4da8-7809-4284-8eb3-48817051379e",
        "executionInfo": {
          "status": "ok",
          "timestamp": 1521997061654,
          "user_tz": -120,
          "elapsed": 88302,
          "user": {
            "displayName": "Sander -",
            "photoUrl": "https://lh3.googleusercontent.com/a/default-user=s128",
            "userId": "114622588177860655130"
          }
        }
      },
      "cell_type": "code",
      "source": [
        "# YOUR CODE HERE\n",
        "\n",
        "# use tSNE to plot document embedding on its sentiment label\n",
        "from sklearn.manifold import TSNE\n",
        "doc_embeddings_tsne = TSNE(n_components=2).fit_transform(doc_embeddings)"
      ],
      "execution_count": 0,
      "outputs": [
        {
          "output_type": "stream",
          "text": [
            "[1 0 0 ... 1 0 1]\n"
          ],
          "name": "stdout"
        }
      ]
    },
    {
      "metadata": {
        "id": "-mnLHIf7Eg8i",
        "colab_type": "code",
        "colab": {
          "autoexec": {
            "startup": false,
            "wait_interval": 0
          },
          "base_uri": "https://localhost:8080/",
          "height": 370
        },
        "outputId": "cde4fd7b-99cb-403c-a608-ea58e22ef926",
        "executionInfo": {
          "status": "ok",
          "timestamp": 1521997603030,
          "user_tz": -120,
          "elapsed": 1062,
          "user": {
            "displayName": "Sander -",
            "photoUrl": "https://lh3.googleusercontent.com/a/default-user=s128",
            "userId": "114622588177860655130"
          }
        }
      },
      "cell_type": "code",
      "source": [
        "plt.scatter(doc_embeddings_tsne[:,0], doc_embeddings_tsne[:,1], c=y_create_embedding, cmap=plt.cm.get_cmap('plasma',2))\n",
        "plt.colorbar()"
      ],
      "execution_count": 0,
      "outputs": [
        {
          "output_type": "execute_result",
          "data": {
            "text/plain": [
              "<matplotlib.colorbar.Colorbar at 0x7f6657e02828>"
            ]
          },
          "metadata": {
            "tags": []
          },
          "execution_count": 106
        },
        {
          "output_type": "display_data",
          "data": {
            "image/png": "[encoded data removed]",
            "text/plain": [
              "<matplotlib.figure.Figure at 0x7f6657c4a5f8>"
            ]
          },
          "metadata": {
            "tags": []
          }
        }
      ]
    },
    {
      "metadata": {
        "id": "VPAsADL2XRAG",
        "colab_type": "text"
      },
      "cell_type": "markdown",
      "source": [
        "### 4. One shot learning on multi-class classification"
      ]
    },
    {
      "metadata": {
        "id": "s0o9US-HXRAG",
        "colab_type": "text"
      },
      "cell_type": "markdown",
      "source": [
        "#### Tasks: \n",
        "\n",
        "* Use the RNN model that has been trained on binary classification task to extract features from different data set (Amazon product reviews)\n",
        "* Define and implement an approach to assign labels on unlabelled set of reviews, by using the concept of \"one shot learning\"\n",
        "* Compute accuracy, given ground truth labels\n",
        "* Discuss the results "
      ]
    },
    {
      "metadata": {
        "id": "IVED0F9UXRAI",
        "colab_type": "text"
      },
      "cell_type": "markdown",
      "source": [
        "Explain how the approach works.\n",
        "\n",
        "\n",
        "#### Answer:\n",
        "\n",
        "We first preprocess the new data exactly the same as we did before while using the vocabulary which we generated with the training data.  \n",
        "We then create embeddings of the three label data points representing the three classes.  \n",
        "After this we do the same for the test data.  \n",
        "We then fit the neirest neighbour algorithm on the embeddings of our three labeled data points after which we compare the embeddings of our test data with these points.  \n",
        "The embedding closest to the embedding of the newly presented datapoint is the embeddings whose class we will asign to the new datapoint."
      ]
    },
    {
      "metadata": {
        "id": "N5gC17SnXRAK",
        "colab_type": "code",
        "colab": {
          "autoexec": {
            "startup": false,
            "wait_interval": 0
          },
          "base_uri": "https://localhost:8080/",
          "height": 266
        },
        "outputId": "f02ecd5d-54f2-49c9-c55f-3bd5beb88da9",
        "executionInfo": {
          "status": "ok",
          "timestamp": 1523199745295,
          "user_tz": -120,
          "elapsed": 581,
          "user": {
            "displayName": "Sander -",
            "photoUrl": "https://lh3.googleusercontent.com/a/default-user=s128",
            "userId": "114622588177860655130"
          }
        }
      },
      "cell_type": "code",
      "source": [
        "# YOUR CODE HERE\n",
        "\n",
        "# one shot learning task\n",
        "amazon_reviews = pd.read_csv(\"example2_labelled.tsv\", sep='\\t')\n",
        "display(amazon_reviews)"
      ],
      "execution_count": 0,
      "outputs": [
        {
          "output_type": "display_data",
          "data": {
            "text/html": [
              "<div>\n",
              "<style scoped>\n",
              "    .dataframe tbody tr th:only-of-type {\n",
              "        vertical-align: middle;\n",
              "    }\n",
              "\n",
              "    .dataframe tbody tr th {\n",
              "        vertical-align: top;\n",
              "    }\n",
              "\n",
              "    .dataframe thead th {\n",
              "        text-align: right;\n",
              "    }\n",
              "</style>\n",
              "<table border=\"1\" class=\"dataframe\">\n",
              "  <thead>\n",
              "    <tr style=\"text-align: right;\">\n",
              "      <th></th>\n",
              "      <th>label</th>\n",
              "      <th>review</th>\n",
              "    </tr>\n",
              "  </thead>\n",
              "  <tbody>\n",
              "    <tr>\n",
              "      <th>0</th>\n",
              "      <td>camera</td>\n",
              "      <td>I purchased the 20d in Feb 2011, around 7 year...</td>\n",
              "    </tr>\n",
              "    <tr>\n",
              "      <th>1</th>\n",
              "      <td>mobilephone</td>\n",
              "      <td>It's been 3 weeks now and I've only had minor ...</td>\n",
              "    </tr>\n",
              "    <tr>\n",
              "      <th>2</th>\n",
              "      <td>laptop</td>\n",
              "      <td>I purchased this Z Series laptop about 5 month...</td>\n",
              "    </tr>\n",
              "    <tr>\n",
              "      <th>3</th>\n",
              "      <td>laptop</td>\n",
              "      <td>When I first got this laptop (at a garage sale...</td>\n",
              "    </tr>\n",
              "    <tr>\n",
              "      <th>4</th>\n",
              "      <td>mobilephone</td>\n",
              "      <td>I love this phone. I've had my own for over a ...</td>\n",
              "    </tr>\n",
              "    <tr>\n",
              "      <th>5</th>\n",
              "      <td>camera</td>\n",
              "      <td>I purchased this camera to replace my Casio EX...</td>\n",
              "    </tr>\n",
              "    <tr>\n",
              "      <th>6</th>\n",
              "      <td>camera</td>\n",
              "      <td>My perfect camera has to do two things very we...</td>\n",
              "    </tr>\n",
              "  </tbody>\n",
              "</table>\n",
              "</div>"
            ],
            "text/plain": [
              "         label                                             review\n",
              "0       camera  I purchased the 20d in Feb 2011, around 7 year...\n",
              "1  mobilephone  It's been 3 weeks now and I've only had minor ...\n",
              "2       laptop  I purchased this Z Series laptop about 5 month...\n",
              "3       laptop  When I first got this laptop (at a garage sale...\n",
              "4  mobilephone  I love this phone. I've had my own for over a ...\n",
              "5       camera  I purchased this camera to replace my Casio EX...\n",
              "6       camera  My perfect camera has to do two things very we..."
            ]
          },
          "metadata": {
            "tags": []
          }
        }
      ]
    },
    {
      "metadata": {
        "id": "Pb3JSBJHpuWv",
        "colab_type": "code",
        "colab": {
          "autoexec": {
            "startup": false,
            "wait_interval": 0
          }
        }
      },
      "cell_type": "code",
      "source": [
        "# function to clean raw text data\n",
        "\n",
        "def striphtml(html):\n",
        "    p = re.compile(r'<.*?>')\n",
        "    return p.sub('', html)\n",
        "\n",
        "def clean(s):\n",
        "    return re.sub(r'[^\\x00-\\x7f]', r'', s)\n",
        "  \n",
        "# FUNCTION to tokenize documents into array list of words\n",
        "# you may also use nltk tokenizer, sklearn tokenizer, or keras tokenizer - \n",
        "# but for the tutorial in text modeling, we will use below function: \n",
        "\n",
        "def tokenizeWords(text):\n",
        "    \n",
        "    tokens = re.sub(r\"[^a-z0-9]+\", \" \", text.lower()).split()\n",
        "    return [str(strtokens) for strtokens in tokens]\n",
        "\n",
        "# FUNCTION to create word-level vocabulary index\n",
        "\n",
        "def indexingVocabulary(array_of_words):\n",
        "\n",
        "    wordIndex = list(array_of_words)\n",
        "    \n",
        "    # we will later pad our sequence into fixed length, so\n",
        "    # we will use '0' as the integer index of pad \n",
        "    wordIndex.insert(0,'<pad>')\n",
        "    \n",
        "    # index for word token '<start>' as a starting sign of sequence. We won't use it for this model\n",
        "    # but for the latter model (sequence-to-sequence model)\n",
        "    wordIndex.append('<start>')\n",
        "    \n",
        "    # index for word token '<end>' as an ending sign of sequence. We won't use it for this model\n",
        "    # but for the latter model (sequence-to-sequence model)\n",
        "    wordIndex.append('<end>')\n",
        "    \n",
        "    # index for word token '<unk>' or unknown words (out of vocabulary words) \n",
        "    wordIndex.append('<unk>')\n",
        "    \n",
        "    vocab = dict([(i,wordIndex[i]) for i in range(len(wordIndex))])\n",
        "    \n",
        "    return vocab"
      ],
      "execution_count": 0,
      "outputs": []
    },
    {
      "metadata": {
        "id": "txABrVhAsh22",
        "colab_type": "code",
        "colab": {
          "autoexec": {
            "startup": false,
            "wait_interval": 0
          }
        }
      },
      "cell_type": "code",
      "source": [
        "\n",
        "from keras.preprocessing import sequence\n",
        "\n",
        "max_review_length = 500\n",
        "example1_amazon =  pd.read_csv('example1_labelled.tsv', sep='\\t')\n",
        "example2_amazon = pd.read_csv('example2_labelled.tsv', sep='\\t')\n",
        "\n",
        "# Example1: this  will create a cleaned version of Example1\n",
        "train_docs = []\n",
        "train_labels = []\n",
        "for review, label in zip(example1_amazon.review, example1_amazon.label):\n",
        "    \n",
        "    doc = clean(striphtml(review))\n",
        "    doc = doc.lower() \n",
        "    train_docs.append(doc)\n",
        "    train_labels.append(label)\n",
        "    \n",
        "# tokenize text from Example1\n",
        "train_str_tokens = []\n",
        "for i, text in enumerate(train_docs):\n",
        "    \n",
        "    # this will create our training corpus\n",
        "    train_str_tokens.append(tokenizeWords(text))\n",
        "\n",
        "# integer format of Example1 \n",
        "train_int_input = []\n",
        "for i, text in enumerate(train_str_tokens):\n",
        "    int_tokens = [indices_words[w] if w in indices_words.keys() else indices_words['<unk>'] for w in text ]\n",
        "    train_int_input.append(int_tokens)\n",
        "    \n",
        "example1_amazon_arr = np.array(train_int_input)\n",
        "example1_amazon_X = sequence.pad_sequences(example1_amazon_arr, maxlen=max_review_length)\n",
        "\n",
        "\n",
        "# Example2: this  will create a cleaned version of Example2\n",
        "\n",
        "test_docs = []\n",
        "test_labels = []\n",
        "for review, label in zip(example2_amazon.review, example2_amazon.label):\n",
        "    \n",
        "    doc = clean(striphtml(review))\n",
        "    doc = doc.lower() \n",
        "    test_docs.append(doc)\n",
        "    test_labels.append(label)\n",
        "\n",
        "    \n",
        "# tokenize text from Example2\n",
        "train_str_tokens = []\n",
        "for i, text in enumerate(test_docs):\n",
        "    \n",
        "    # this will create our training corpus\n",
        "    train_str_tokens.append(tokenizeWords(text))\n",
        "\n",
        "# integer format of Example2 \n",
        "train_int_input = []\n",
        "for i, text in enumerate(train_str_tokens):\n",
        "    int_tokens = [indices_words[w] if w in indices_words.keys() else indices_words['<unk>'] for w in text ]\n",
        "    train_int_input.append(int_tokens)\n",
        "    \n",
        "example2_amazon_arr = np.array(train_int_input)\n",
        "example2_amazon_X = sequence.pad_sequences(example2_amazon_arr, maxlen=max_review_length)"
      ],
      "execution_count": 0,
      "outputs": []
    },
    {
      "metadata": {
        "id": "QT57TZ62_ZW-",
        "colab_type": "code",
        "colab": {
          "autoexec": {
            "startup": false,
            "wait_interval": 0
          }
        }
      },
      "cell_type": "code",
      "source": [
        "#Create embeddings\n",
        "example1_embeddings = encoder_model.predict(example1_amazon_X)\n",
        "example2_embeddings = encoder_model.predict(example2_amazon_X)"
      ],
      "execution_count": 0,
      "outputs": []
    },
    {
      "metadata": {
        "id": "YAPgCXUiA5Gd",
        "colab_type": "code",
        "colab": {
          "autoexec": {
            "startup": false,
            "wait_interval": 0
          }
        }
      },
      "cell_type": "code",
      "source": [
        "from sklearn.neighbors import NearestNeighbors\n",
        "\n",
        "#Find the corresponding class using nearest neighbour.\n",
        "neigh = NearestNeighbors(n_neighbors=3)\n",
        "neigh.fit(example1_embeddings)\n",
        "\n",
        "nn = neigh.kneighbors(example2_embeddings)"
      ],
      "execution_count": 0,
      "outputs": []
    },
    {
      "metadata": {
        "id": "3B9aFit-C2mi",
        "colab_type": "code",
        "colab": {
          "autoexec": {
            "startup": false,
            "wait_interval": 0
          },
          "base_uri": "https://localhost:8080/",
          "height": 289
        },
        "outputId": "c0818a9a-b3f1-4108-d26d-92fff0b5b736",
        "executionInfo": {
          "status": "ok",
          "timestamp": 1523204068138,
          "user_tz": -120,
          "elapsed": 592,
          "user": {
            "displayName": "Sander -",
            "photoUrl": "https://lh3.googleusercontent.com/a/default-user=s128",
            "userId": "114622588177860655130"
          }
        }
      },
      "cell_type": "code",
      "source": [
        "#Compare the labels and print the accuracy\n",
        "example2_classes = nn[1][:, 0]\n",
        "theClasses = []\n",
        "for i, classNumber in enumerate(example2_classes):\n",
        "  theClasses.append(train_labels[classNumber])\n",
        "  \n",
        "print('Nearest neighbours: ', nn)\n",
        "print(\"Correct classes\", test_labels)\n",
        "print(\"Classes found\", theClasses)\n",
        "\n",
        "correct = (np.asarray(test_labels) == np.asarray(theClasses))\n",
        "print(\"Percentage classified correctly (accuracy) : \", np.sum(correct)/len(theClasses))"
      ],
      "execution_count": 0,
      "outputs": [
        {
          "output_type": "stream",
          "text": [
            "Nearest neighbours:  (array([[0.04698169, 0.5679738 , 0.7667478 ],\n",
            "       [1.2558521 , 1.4540079 , 1.9991429 ],\n",
            "       [0.7206506 , 1.2378423 , 1.4249254 ],\n",
            "       [0.14464626, 0.5141198 , 0.7053019 ],\n",
            "       [0.31468713, 0.7930587 , 0.9808008 ],\n",
            "       [0.808977  , 1.0050554 , 1.5527412 ],\n",
            "       [0.28600857, 0.40395182, 0.44369873]], dtype=float32), array([[1, 2, 0],\n",
            "       [0, 2, 1],\n",
            "       [1, 2, 0],\n",
            "       [1, 2, 0],\n",
            "       [1, 2, 0],\n",
            "       [0, 2, 1],\n",
            "       [2, 1, 0]]))\n",
            "Correct classes ['camera', 'mobilephone', 'laptop', 'laptop', 'mobilephone', 'camera', 'camera']\n",
            "Classes found ['laptop', 'camera', 'laptop', 'laptop', 'laptop', 'camera', 'mobilephone']\n",
            "Percentage classified correctly (accuracy) :  0.42857142857142855\n"
          ],
          "name": "stdout"
        }
      ]
    },
    {
      "metadata": {
        "id": "OLHYN85VrYI_",
        "colab_type": "code",
        "colab": {
          "autoexec": {
            "startup": false,
            "wait_interval": 0
          }
        }
      },
      "cell_type": "code",
      "source": [
        "word_indices = np.load('words_indices.npy')\n",
        "indices_words = np.load('indices_words.npy')"
      ],
      "execution_count": 0,
      "outputs": []
    },
    {
      "metadata": {
        "id": "KNEIlhQMe7qO",
        "colab_type": "code",
        "colab": {
          "autoexec": {
            "startup": false,
            "wait_interval": 0
          }
        }
      },
      "cell_type": "code",
      "source": [
        "from google.colab import files\n",
        "\n",
        "uploaded = files.upload()\n",
        "\n",
        "for fn in uploaded.keys():\n",
        "    print('User uploaded file \"{name}\" with length {length} bytes'.format(\n",
        "        name=fn, length=len(uploaded[fn])))"
      ],
      "execution_count": 0,
      "outputs": []
    },
    {
      "metadata": {
        "id": "ilTapiuFXRAM",
        "colab_type": "text"
      },
      "cell_type": "markdown",
      "source": [
        "Discuss the result. Why it works -- or why it does not work.\n",
        "\n",
        "#### Answer:\n",
        "\n",
        "The classifier does perform beter than random guessing. It however does not perform well on our seven examples. The embeddings we use are trained to pick on structures that represent emotion, these representations do thus not need to say anything about the type of product. The results show that there might be some features in the representation that indicate the type of product, however not enough to make any accurate predictions. "
      ]
    }
  ]
}