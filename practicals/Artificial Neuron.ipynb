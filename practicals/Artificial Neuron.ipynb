{
 "cells": [
  {
   "cell_type": "code",
   "execution_count": 1,
   "metadata": {
    "collapsed": true,
    "slideshow": {
     "slide_type": "fragment"
    }
   },
   "outputs": [],
   "source": [
    "import tensorflow as tf\n",
    "import numpy as np\n",
    "import matplotlib.pyplot as plt\n",
    "rng = np.random\n"
   ]
  },
  {
   "cell_type": "code",
   "execution_count": 2,
   "metadata": {
    "collapsed": true,
    "slideshow": {
     "slide_type": "fragment"
    }
   },
   "outputs": [],
   "source": [
    "# Parameters\n",
    "learning_rate = 0.001\n",
    "training_epochs = 5000\n",
    "display_step = 50\n",
    "n_samples = 100"
   ]
  },
  {
   "cell_type": "code",
   "execution_count": 3,
   "metadata": {
    "collapsed": true,
    "slideshow": {
     "slide_type": "fragment"
    }
   },
   "outputs": [],
   "source": [
    "# Training data\n",
    "\n",
    "alpha = -2.0\n",
    "beta = 1.5\n",
    "train_X = np.asarray(np.random.uniform(0, 5, n_samples))\n",
    "train_Y = np.asarray(np.add(np.add(np.multiply(train_X, alpha), beta), np.random.normal(0, 1.5, n_samples)))"
   ]
  },
  {
   "cell_type": "code",
   "execution_count": 4,
   "metadata": {
    "collapsed": true,
    "slideshow": {
     "slide_type": "fragment"
    }
   },
   "outputs": [],
   "source": [
    "# Input Nodes\n",
    "X = tf.placeholder(\"float\")\n",
    "Y = tf.placeholder(\"float\")\n",
    "\n",
    "# Model parameters\n",
    "W = tf.Variable(0.2, name=\"weight\") #initialize to random values\n",
    "b = tf.Variable(0.1, name=\"bias\") #initialize to random values"
   ]
  },
  {
   "cell_type": "code",
   "execution_count": 5,
   "metadata": {
    "collapsed": true,
    "slideshow": {
     "slide_type": "fragment"
    }
   },
   "outputs": [],
   "source": [
    "# Model definition\n",
    "Y_hat = tf.add(tf.multiply(X, W), b)"
   ]
  },
  {
   "cell_type": "code",
   "execution_count": 6,
   "metadata": {
    "collapsed": true,
    "slideshow": {
     "slide_type": "fragment"
    }
   },
   "outputs": [],
   "source": [
    "\n",
    "# Loss function\n",
    "    # Mean squared error\n",
    "cost = tf.reduce_sum(tf.pow(Y_hat-Y, 2))/(2*n_samples)\n",
    "\n",
    "# Optimizer\n",
    "    # Gradient descent\n",
    "optimizer = tf.train.GradientDescentOptimizer(learning_rate).minimize(cost)"
   ]
  },
  {
   "cell_type": "code",
   "execution_count": 7,
   "metadata": {
    "collapsed": true,
    "slideshow": {
     "slide_type": "fragment"
    }
   },
   "outputs": [],
   "source": [
    "# Initializing the variables\n",
    "init = tf.global_variables_initializer()"
   ]
  },
  {
   "cell_type": "code",
   "execution_count": 8,
   "metadata": {
    "slideshow": {
     "slide_type": "fragment"
    }
   },
   "outputs": [
    {
     "data": {
      "image/png": "[encoded data removed]",
      "text/plain": [
       "<matplotlib.figure.Figure at 0x181b8fa0d0>"
      ]
     },
     "metadata": {},
     "output_type": "display_data"
    }
   ],
   "source": [
    "# Plot\n",
    "plt.plot(train_X, train_Y, 'ro', label='Original data')\n",
    "#plt.plot(train_X, sess.run(W) * train_X + sess.run(b), label='Fitted line')\n",
    "plt.legend()\n",
    "plt.show()"
   ]
  },
  {
   "cell_type": "code",
   "execution_count": 27,
   "metadata": {
    "slideshow": {
     "slide_type": "fragment"
    }
   },
   "outputs": [
    {
     "name": "stdout",
     "output_type": "stream",
     "text": [
      "('Epoch:', '0050', 'cost=', '5.938244820', 'W=', -0.30599287, 'b=', -0.045618601)\n",
      "('Epoch:', '0100', 'cost=', '3.420062780', 'W=', -0.64643079, 'b=', -0.13702019)\n",
      "('Epoch:', '0150', 'cost=', '2.289277077', 'W=', -0.87610424, 'b=', -0.19222616)\n",
      "('Epoch:', '0200', 'cost=', '1.779359460', 'W=', -1.0316645, 'b=', -0.2232911)\n",
      "('Epoch:', '0250', 'cost=', '1.547341585', 'W=', -1.1376253, 'b=', -0.23827702)\n",
      "('Epoch:', '0300', 'cost=', '1.439754486', 'W=', -1.2103887, 'b=', -0.2425763)\n",
      "('Epoch:', '0350', 'cost=', '1.387933016', 'W=', -1.2609235, 'b=', -0.23979418)\n",
      "('Epoch:', '0400', 'cost=', '1.361154079', 'W=', -1.2965616, 'b=', -0.23234253)\n",
      "('Epoch:', '0450', 'cost=', '1.345660567', 'W=', -1.3222202, 'b=', -0.22183384)\n",
      "('Epoch:', '0500', 'cost=', '1.335303664', 'W=', -1.3411698, 'b=', -0.20934525)\n",
      "('Epoch:', '0550', 'cost=', '1.327321529', 'W=', -1.3556241, 'b=', -0.19559811)\n",
      "('Epoch:', '0600', 'cost=', '1.320482492', 'W=', -1.3670429, 'b=', -0.1810727)\n",
      "('Epoch:', '0650', 'cost=', '1.314231753', 'W=', -1.3764127, 'b=', -0.16608962)\n",
      "('Epoch:', '0700', 'cost=', '1.308320045', 'W=', -1.3843861, 'b=', -0.15086314)\n",
      "('Epoch:', '0750', 'cost=', '1.302630424', 'W=', -1.3914272, 'b=', -0.13553548)\n",
      "('Epoch:', '0800', 'cost=', '1.297114253', 'W=', -1.3978, 'b=', -0.12019976)\n",
      "('Epoch:', '0850', 'cost=', '1.291745901', 'W=', -1.4037085, 'b=', -0.10491914)\n",
      "('Epoch:', '0900', 'cost=', '1.286510944', 'W=', -1.4092968, 'b=', -0.089735799)\n",
      "('Epoch:', '0950', 'cost=', '1.281402469', 'W=', -1.4146527, 'b=', -0.074676074)\n",
      "('Epoch:', '1000', 'cost=', '1.276416302', 'W=', -1.4198222, 'b=', -0.059756614)\n",
      "('Epoch:', '1050', 'cost=', '1.271548867', 'W=', -1.4248486, 'b=', -0.044988781)\n",
      "('Epoch:', '1100', 'cost=', '1.266794086', 'W=', -1.4297864, 'b=', -0.03037904)\n",
      "('Epoch:', '1150', 'cost=', '1.262153506', 'W=', -1.4346101, 'b=', -0.015930522)\n",
      "('Epoch:', '1200', 'cost=', '1.257622957', 'W=', -1.4393495, 'b=', -0.0016469719)\n",
      "('Epoch:', '1250', 'cost=', '1.253198147', 'W=', -1.4440281, 'b=', 0.012472003)\n",
      "('Epoch:', '1300', 'cost=', '1.248877406', 'W=', -1.4486398, 'b=', 0.026427956)\n",
      "('Epoch:', '1350', 'cost=', '1.244658351', 'W=', -1.4531928, 'b=', 0.040220976)\n",
      "('Epoch:', '1400', 'cost=', '1.240538359', 'W=', -1.4576889, 'b=', 0.053852137)\n",
      "('Epoch:', '1450', 'cost=', '1.236515164', 'W=', -1.4621292, 'b=', 0.067323044)\n",
      "('Epoch:', '1500', 'cost=', '1.232587337', 'W=', -1.4665097, 'b=', 0.08063516)\n",
      "('Epoch:', '1550', 'cost=', '1.228752136', 'W=', -1.4708327, 'b=', 0.093789898)\n",
      "('Epoch:', '1600', 'cost=', '1.225006223', 'W=', -1.4751161, 'b=', 0.10678934)\n",
      "('Epoch:', '1650', 'cost=', '1.221348524', 'W=', -1.4793472, 'b=', 0.11963584)\n",
      "('Epoch:', '1700', 'cost=', '1.217777729', 'W=', -1.4835186, 'b=', 0.13233015)\n",
      "('Epoch:', '1750', 'cost=', '1.214288831', 'W=', -1.487663, 'b=', 0.14487511)\n",
      "('Epoch:', '1800', 'cost=', '1.210884094', 'W=', -1.4917347, 'b=', 0.1572715)\n",
      "('Epoch:', '1850', 'cost=', '1.207559705', 'W=', -1.4957544, 'b=', 0.16952129)\n",
      "('Epoch:', '1900', 'cost=', '1.204312325', 'W=', -1.49974, 'b=', 0.18162663)\n",
      "('Epoch:', '1950', 'cost=', '1.201142073', 'W=', -1.5036734, 'b=', 0.19358841)\n",
      "('Epoch:', '2000', 'cost=', '1.198046803', 'W=', -1.5075561, 'b=', 0.20540735)\n",
      "('Epoch:', '2050', 'cost=', '1.195024729', 'W=', -1.5113862, 'b=', 0.21708684)\n",
      "('Epoch:', '2100', 'cost=', '1.192072988', 'W=', -1.5151871, 'b=', 0.22862756)\n",
      "('Epoch:', '2150', 'cost=', '1.189192176', 'W=', -1.5189255, 'b=', 0.2400299)\n",
      "('Epoch:', '2200', 'cost=', '1.186379194', 'W=', -1.5226225, 'b=', 0.25129679)\n",
      "('Epoch:', '2250', 'cost=', '1.183630824', 'W=', -1.5262958, 'b=', 0.262431)\n",
      "('Epoch:', '2300', 'cost=', '1.180946827', 'W=', -1.5299249, 'b=', 0.27343509)\n",
      "('Epoch:', '2350', 'cost=', '1.178327084', 'W=', -1.5335008, 'b=', 0.28430745)\n",
      "('Epoch:', '2400', 'cost=', '1.175768137', 'W=', -1.5370349, 'b=', 0.29505453)\n",
      "('Epoch:', '2450', 'cost=', '1.173271060', 'W=', -1.5405191, 'b=', 0.30566975)\n",
      "('Epoch:', '2500', 'cost=', '1.170832515', 'W=', -1.5439641, 'b=', 0.31615958)\n",
      "('Epoch:', '2550', 'cost=', '1.168449283', 'W=', -1.5473912, 'b=', 0.32652771)\n",
      "('Epoch:', '2600', 'cost=', '1.166124821', 'W=', -1.5507405, 'b=', 0.33677253)\n",
      "('Epoch:', '2650', 'cost=', '1.163853407', 'W=', -1.5540698, 'b=', 0.3468973)\n",
      "('Epoch:', '2700', 'cost=', '1.161636233', 'W=', -1.557359, 'b=', 0.35689911)\n",
      "('Epoch:', '2750', 'cost=', '1.159471154', 'W=', -1.5606118, 'b=', 0.36678278)\n",
      "('Epoch:', '2800', 'cost=', '1.157357931', 'W=', -1.5638133, 'b=', 0.37654844)\n",
      "('Epoch:', '2850', 'cost=', '1.155293345', 'W=', -1.5669956, 'b=', 0.38619754)\n",
      "('Epoch:', '2900', 'cost=', '1.153276563', 'W=', -1.5701463, 'b=', 0.39573556)\n",
      "('Epoch:', '2950', 'cost=', '1.151308775', 'W=', -1.5732353, 'b=', 0.40516031)\n",
      "('Epoch:', '3000', 'cost=', '1.149386525', 'W=', -1.5762967, 'b=', 0.41447368)\n",
      "('Epoch:', '3050', 'cost=', '1.147511005', 'W=', -1.5793092, 'b=', 0.42367437)\n",
      "('Epoch:', '3100', 'cost=', '1.145677209', 'W=', -1.5823169, 'b=', 0.4327687)\n",
      "('Epoch:', '3150', 'cost=', '1.143887043', 'W=', -1.5852705, 'b=', 0.44175914)\n",
      "('Epoch:', '3200', 'cost=', '1.142139912', 'W=', -1.5881861, 'b=', 0.45063818)\n",
      "('Epoch:', '3250', 'cost=', '1.140433788', 'W=', -1.5910692, 'b=', 0.45941338)\n",
      "('Epoch:', '3300', 'cost=', '1.138767838', 'W=', -1.5939211, 'b=', 0.46808288)\n",
      "('Epoch:', '3350', 'cost=', '1.137139440', 'W=', -1.5967588, 'b=', 0.47665292)\n",
      "('Epoch:', '3400', 'cost=', '1.135551095', 'W=', -1.5995342, 'b=', 0.48512152)\n",
      "('Epoch:', '3450', 'cost=', '1.134000301', 'W=', -1.602286, 'b=', 0.49348634)\n",
      "('Epoch:', '3500', 'cost=', '1.132485867', 'W=', -1.6049998, 'b=', 0.50175327)\n",
      "('Epoch:', '3550', 'cost=', '1.131007671', 'W=', -1.6076869, 'b=', 0.50991827)\n",
      "('Epoch:', '3600', 'cost=', '1.129563808', 'W=', -1.6103367, 'b=', 0.51799124)\n",
      "('Epoch:', '3650', 'cost=', '1.128154516', 'W=', -1.6129612, 'b=', 0.52596158)\n",
      "('Epoch:', '3700', 'cost=', '1.126777768', 'W=', -1.6155452, 'b=', 0.53384507)\n",
      "('Epoch:', '3750', 'cost=', '1.125431776', 'W=', -1.6181191, 'b=', 0.54164022)\n",
      "('Epoch:', '3800', 'cost=', '1.124118090', 'W=', -1.6206458, 'b=', 0.54934347)\n",
      "('Epoch:', '3850', 'cost=', '1.122837424', 'W=', -1.6231375, 'b=', 0.55694449)\n",
      "('Epoch:', '3900', 'cost=', '1.121584058', 'W=', -1.6256304, 'b=', 0.56446356)\n",
      "('Epoch:', '3950', 'cost=', '1.120362282', 'W=', -1.6280544, 'b=', 0.57189226)\n",
      "('Epoch:', '4000', 'cost=', '1.119168758', 'W=', -1.6304834, 'b=', 0.57922626)\n",
      "('Epoch:', '4050', 'cost=', '1.118003249', 'W=', -1.6328573, 'b=', 0.58648229)\n",
      "('Epoch:', '4100', 'cost=', '1.116866350', 'W=', -1.6352094, 'b=', 0.59364218)\n",
      "('Epoch:', '4150', 'cost=', '1.115754247', 'W=', -1.6375567, 'b=', 0.60072315)\n",
      "('Epoch:', '4200', 'cost=', '1.114669442', 'W=', -1.6398538, 'b=', 0.60771954)\n",
      "('Epoch:', '4250', 'cost=', '1.113610744', 'W=', -1.6421229, 'b=', 0.61462981)\n",
      "('Epoch:', '4300', 'cost=', '1.112577438', 'W=', -1.6443546, 'b=', 0.62145871)\n",
      "('Epoch:', '4350', 'cost=', '1.111567616', 'W=', -1.6465763, 'b=', 0.62820733)\n",
      "('Epoch:', '4400', 'cost=', '1.110580206', 'W=', -1.6487787, 'b=', 0.63488334)\n",
      "('Epoch:', '4450', 'cost=', '1.109615922', 'W=', -1.6509465, 'b=', 0.64148337)\n",
      "('Epoch:', '4500', 'cost=', '1.108675361', 'W=', -1.6530955, 'b=', 0.64799732)\n",
      "('Epoch:', '4550', 'cost=', '1.107755184', 'W=', -1.6552396, 'b=', 0.65444005)\n",
      "('Epoch:', '4600', 'cost=', '1.106858969', 'W=', -1.6573062, 'b=', 0.66080427)\n",
      "('Epoch:', '4650', 'cost=', '1.105983138', 'W=', -1.6593753, 'b=', 0.6670922)\n",
      "('Epoch:', '4700', 'cost=', '1.105129361', 'W=', -1.6614085, 'b=', 0.67329681)\n",
      "('Epoch:', '4750', 'cost=', '1.104295611', 'W=', -1.6634172, 'b=', 0.67942798)\n",
      "('Epoch:', '4800', 'cost=', '1.103479266', 'W=', -1.665431, 'b=', 0.68549591)\n",
      "('Epoch:', '4850', 'cost=', '1.102682829', 'W=', -1.6674099, 'b=', 0.69149113)\n",
      "('Epoch:', '4900', 'cost=', '1.101906061', 'W=', -1.6693324, 'b=', 0.69741702)\n",
      "('Epoch:', '4950', 'cost=', '1.101147532', 'W=', -1.6712577, 'b=', 0.70326453)\n",
      "('Epoch:', '5000', 'cost=', '1.100405693', 'W=', -1.6731706, 'b=', 0.70904958)\n",
      "Optimization Finished!\n",
      "('Training cost=', 1.1004057, 'W=', -1.6731706, 'b=', 0.70904958, '\\n')\n"
     ]
    },
    {
     "data": {
      "image/png": "[encoded data removed]",
      "text/plain": [
       "<matplotlib.figure.Figure at 0x1813ba6850>"
      ]
     },
     "metadata": {},
     "output_type": "display_data"
    }
   ],
   "source": [
    "# Launch the graph\n",
    "with tf.Session() as sess:\n",
    "    sess.run(init)\n",
    "\n",
    "    # Fit all training data\n",
    "    for epoch in range(training_epochs):\n",
    "        for (x, y) in zip(train_X, train_Y):\n",
    "            sess.run(optimizer, feed_dict={X: x, Y: y})\n",
    "\n",
    "        #Display logs per epoch step\n",
    "        if (epoch+1) % display_step == 0:\n",
    "            c = sess.run(cost, feed_dict={X: train_X, Y:train_Y})\n",
    "            print (\"Epoch:\", '%04d' % (epoch+1), \"cost=\", \"{:.9f}\".format(c), \\\n",
    "                \"W=\", sess.run(W), \"b=\", sess.run(b))\n",
    "\n",
    "    print (\"Optimization Finished!\")\n",
    "    training_cost = sess.run(cost, feed_dict={X: train_X, Y: train_Y})\n",
    "    print (\"Training cost=\", training_cost, \"W=\", sess.run(W), \"b=\", sess.run(b), '\\n')\n",
    "\n",
    "    #Graphic display\n",
    "    plt.plot(train_X, train_Y, 'ro', label='Original data')\n",
    "    plt.plot(train_X, sess.run(W) * train_X + sess.run(b), label='Fitted line')\n",
    "    plt.legend()\n",
    "    plt.show()"
   ]
  }
 ],
 "metadata": {
  "anaconda-cloud": {},
  "celltoolbar": "Slideshow",
  "kernelspec": {
   "display_name": "Python 2",
   "language": "python",
   "name": "python2"
  },
  "language_info": {
   "codemirror_mode": {
    "name": "ipython",
    "version": 2
   },
   "file_extension": ".py",
   "mimetype": "text/x-python",
   "name": "python",
   "nbconvert_exporter": "python",
   "pygments_lexer": "ipython2",
   "version": "2.7.13"
  }
 },
 "nbformat": 4,
 "nbformat_minor": 1
}
